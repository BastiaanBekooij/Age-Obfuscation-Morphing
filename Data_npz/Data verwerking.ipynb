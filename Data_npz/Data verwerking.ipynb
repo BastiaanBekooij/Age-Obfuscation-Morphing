{
 "cells": [
  {
   "cell_type": "code",
   "execution_count": 6,
   "metadata": {},
   "outputs": [],
   "source": [
    "#!/usr/bin/env python3\n",
    "# -*- coding: utf-8 -*-\n",
    "\"\"\"\n",
    "Created on Fri Jan  8 10:43:48 2021\n",
    "\n",
    "@author: ellen\n",
    "\"\"\"\n",
    "\n",
    "# finde path to all pictures ending with \"pattern\" - *_1.jpg\n",
    "import re\n",
    "import os, fnmatch, facemorpher\n",
    "from pyagender import PyAgender\n",
    "import cv2\n",
    "from PIL import Image\n",
    "import face_recognition\n",
    "import time\n",
    "import numpy as np\n",
    "\n",
    "\n",
    "def find2(pattern, path):\n",
    "    result = []\n",
    "    for root, dirs, files in os.walk(path):\n",
    "        for name in files:\n",
    "            if fnmatch.fnmatch(name, pattern):\n",
    "                result.append(os.path.join(root, name))\n",
    "    return result\n",
    "\n",
    "def average(pictures):\n",
    "    facemorpher.averager(pictures, plot=True)\n",
    "    \n",
    "def morphing(orginele_foto, morph_foto):\n",
    "    #agender = PyAgender()\n",
    "    #faces = agender.detect_genders_ages(cv2.imread(orginele_foto))\n",
    "    #original_age = faces[0]['age']\n",
    "    pictures = [orginele_foto, morph_foto]\n",
    "    facemorpher.morpher(pictures, plot=True, out_frames='output')\n",
    "    # Output is fotos in de folder /output\n",
    "    \n",
    "    \n",
    "def age_estimation(foto):\n",
    "    agender = PyAgender()\n",
    "    faces = agender.detect_genders_ages(cv2.imread(foto))\n",
    "    age = faces[0]['age']\n",
    "    return round(age)\n",
    "    \n",
    "def age_estimation_group(foto_list):\n",
    "    age_group_detected = []\n",
    "    age_group_actual = []\n",
    "    for x in foto_list:\n",
    "        age = age_estimation(x)\n",
    "        age_group_detected.append(age)\n",
    "        age_group_actual.append(x.split(\"_\")[1])\n",
    "    return age_group_detected, age_group_actual\n",
    "    \n",
    "def Face_recognition(known, test):\n",
    "    known_image = face_recognition.load_image_file(known)\n",
    "    face_encoding = face_recognition.face_encodings(known_image)[0]\n",
    "    known_encodings = [face_encoding]\n",
    "    image_to_test = face_recognition.load_image_file(test)\n",
    "    image_to_test_encoding = face_recognition.face_encodings(image_to_test)[0]\n",
    "    face_distances = face_recognition.face_distance(known_encodings, image_to_test_encoding)\n",
    "    \n",
    "    for i, face_distance in enumerate(face_distances):\n",
    "        print(\"The test image has a distance of {:.2} from known image #{}\".format(face_distance, i))\n",
    "        print(\"- With a normal cutoff of 0.6, would the test image match the known image? {}\".format(face_distance < 0.6))\n",
    "        print(\"- With a very strict cutoff of 0.5, would the test image match the known image? {}\".format(face_distance < 0.5))\n",
    "        print()\n",
    "    return face_distance\n",
    "\n",
    "def after_morphing(morph, path):\n",
    "    age_after_morph = []\n",
    "    face_distance_after_morph = []\n",
    "    face_distance_before_morph =[]\n",
    "    actual_age = []\n",
    "    age_before_morph = []\n",
    "    result = find2(\"*_1.png\", path)\n",
    "    save_name = morph.split(\"/\")[-1].replace('.png','.npz')\n",
    "    for i in result:\n",
    "        start = time.time()\n",
    "        morphing(i, morph)\n",
    "        age_after_morph.append(age_estimation(\"output/frame009.png\"))\n",
    "        face_distance_after_morph.append(Face_recognition(i.replace(\"_1.png\", \".png\"), \"output/frame009.png\" ))\n",
    "        face_distance_before_morph.append(Face_recognition(i.replace(\"_1.png\", \".png\"), i ))\n",
    "        actual_age.append(int(i.split(\"_\")[2]))\n",
    "        age_before_morph.append(age_estimation(i))\n",
    "        print(age_after_morph)\n",
    "        print(face_distance_after_morph)\n",
    "        print(actual_age)\n",
    "        stop = time.time()\n",
    "        print(stop-start)\n",
    "    np.savez(save_name, age_after_morph=age_after_morph,age_before_morph=age_before_morph, actual_age=actual_age, face_dist_after = face_distance_after_morph, face_dist_before=face_distance_before_morph)\n",
    "   # Plots_print()\n",
    "    #return age_after_morph, face_distance_after_morph, actual_age, face_distance_before_morph, age_before_morph\n",
    "\n",
    "def read_npz_after_morph(file):\n",
    "    x = np.load(file, mmap_mode='r')\n",
    "\n",
    "    actual_age = x['actual_age'] # Array with actual ages\n",
    "    age_after_morph = x['age_after_morph'] # Array with detected ages after morphing\n",
    "    age_before_morph = x['age_before_morph'] # Array with detected ages before morphing\n",
    "    face_dist_after = x['face_dist_after'] # Face distance after morphing\n",
    "    face_dist_before = x['face_dist_before'] # Face distance before morphing\n",
    "    \n",
    "    return actual_age, age_after_morph, age_before_morph, face_dist_after, face_dist_before"
   ]
  },
  {
   "cell_type": "code",
   "execution_count": 11,
   "metadata": {},
   "outputs": [],
   "source": [
    "actual_age20, age_after_morph20, age_before_morph20, face_dist_after20, face_dist_before20 = read_npz_after_morph(\"average20_30_N3(1).npz\")\n",
    "actual_age30, age_after_morph30, age_before_morph30, face_dist_after30, face_dist_before30 = read_npz_after_morph(\"average30_40_N3(0).npz\")\n",
    "actual_age40, age_after_morph40, age_before_morph40, face_dist_after40, face_dist_before40 = read_npz_after_morph(\"average40_50_N3(0).npz\")\n",
    "actual_age50, age_after_morph50, age_before_morph50, face_dist_after50, face_dist_before50 = read_npz_after_morph(\"average50_60_N3(0).npz\")"
   ]
  },
  {
   "cell_type": "code",
   "execution_count": 22,
   "metadata": {},
   "outputs": [
    {
     "data": {
      "image/png": "[encoded data removed]",
      "text/plain": [
       "<Figure size 432x288 with 1 Axes>"
      ]
     },
     "metadata": {
      "needs_background": "light"
     },
     "output_type": "display_data"
    }
   ],
   "source": [
    "import matplotlib.pyplot as plt\n",
    "\n",
    "x = list(range(1, len(actual_age20)))\n",
    "plt.figure()\n",
    "plt.plot(actual_age20, age_before_morph20, 'o', label=\"Detected age without morph\")\n",
    "plt.plot(actual_age20, age_after_morph20,'o', label=\"Morph age 20-30\")\n",
    "plt.plot(actual_age20, age_after_morph30, 'o', label=\"Morph age 30-40\")\n",
    "plt.plot(actual_age20, age_after_morph40, 'o', label=\"Morph age 40-50\")\n",
    "plt.plot(actual_age20, age_after_morph50, 'o', label=\"Morph age 50-60\")\n",
    "plt.legend()\n",
    "#plt.savefig('Age_after_morph.eps', format='eps')\n",
    "plt.savefig('Age_after_morph.png')\n",
    "plt.show()"
   ]
  },
  {
   "cell_type": "code",
   "execution_count": 24,
   "metadata": {},
   "outputs": [
    {
     "name": "stdout",
     "output_type": "stream",
     "text": [
      "26.043478260869566\n",
      "28.36521739130435\n",
      "28.82608695652174\n",
      "29.6\n",
      "32.96521739130435\n",
      "33.06956521739131\n"
     ]
    }
   ],
   "source": [
    "print(np.mean(actual_age20))\n",
    "print(np.mean(age_before_morph20))\n",
    "print(np.mean(age_after_morph20))\n",
    "print(np.mean(age_after_morph30))\n",
    "print(np.mean(age_after_morph40))\n",
    "print(np.mean(age_after_morph50))"
   ]
  },
  {
   "cell_type": "code",
   "execution_count": 37,
   "metadata": {},
   "outputs": [
    {
     "data": {
      "text/plain": [
       "[<matplotlib.lines.Line2D at 0x7fe4dee23410>]"
      ]
     },
     "execution_count": 37,
     "metadata": {},
     "output_type": "execute_result"
    },
    {
     "data": {
      "image/png": "[encoded data removed]",
      "text/plain": [
       "<Figure size 432x288 with 1 Axes>"
      ]
     },
     "metadata": {
      "needs_background": "light"
     },
     "output_type": "display_data"
    }
   ],
   "source": [
    "result = []\n",
    "for i in range(0,len(actual_age20)):\n",
    "    if actual_age20[i] < 30:\n",
    "        result.append(age_after_morph50[i])\n",
    "    elif actual_age20[i] > 50:\n",
    "        result.append(age_after_morph20[i])\n",
    "    else:\n",
    "        result.append(age_after_morph30[i])\n",
    "        \n",
    "plt.figure()\n",
    "plt.plot(actual_age20, result, 'o', label=\" if age <30, moprh = 50-60. if age >50, morph = 20-30 else morph = 30-40\")\n",
    "plt.plot(actual_age20, age_before_morph20, 'o', label=\"Detected age without morph\")\n",
    "plt.legend\n",
    "plt.savefig('Age_after_morph_different_morph_for_age_groups.png')"
   ]
  },
  {
   "cell_type": "code",
   "execution_count": null,
   "metadata": {},
   "outputs": [],
   "source": []
  }
 ],
 "metadata": {
  "kernelspec": {
   "display_name": "Python 3",
   "language": "python",
   "name": "python3"
  },
  "language_info": {
   "codemirror_mode": {
    "name": "ipython",
    "version": 3
   },
   "file_extension": ".py",
   "mimetype": "text/x-python",
   "name": "python",
   "nbconvert_exporter": "python",
   "pygments_lexer": "ipython3",
   "version": "3.7.9"
  }
 },
 "nbformat": 4,
 "nbformat_minor": 4
}

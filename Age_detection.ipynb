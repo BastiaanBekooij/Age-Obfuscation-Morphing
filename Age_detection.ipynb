{
 "cells": [
  {
   "cell_type": "code",
   "execution_count": 78,
   "metadata": {},
   "outputs": [
    {
     "ename": "NameError",
     "evalue": "name 'np' is not defined",
     "output_type": "error",
     "traceback": [
      "\u001b[0;31m---------------------------------------------------------------------------\u001b[0m",
      "\u001b[0;31mNameError\u001b[0m                                 Traceback (most recent call last)",
      "\u001b[0;32m<ipython-input-78-56967356eb9f>\u001b[0m in \u001b[0;36m<module>\u001b[0;34m\u001b[0m\n\u001b[1;32m      9\u001b[0m \u001b[0mactual_age\u001b[0m \u001b[0;34m=\u001b[0m \u001b[0;34m[\u001b[0m\u001b[0;34m]\u001b[0m\u001b[0;34m\u001b[0m\u001b[0;34m\u001b[0m\u001b[0m\n\u001b[1;32m     10\u001b[0m \u001b[0mpath\u001b[0m \u001b[0;34m=\u001b[0m \u001b[0;34m\"/Users/ellen/Documents/Twente/Q2/Introduction to biometrics/Final/SiblingsDB/\"\u001b[0m\u001b[0;34m\u001b[0m\u001b[0;34m\u001b[0m\u001b[0m\n\u001b[0;32m---> 11\u001b[0;31m \u001b[0mempty_array\u001b[0m \u001b[0;34m=\u001b[0m \u001b[0mnp\u001b[0m\u001b[0;34m.\u001b[0m\u001b[0marray\u001b[0m\u001b[0;34m(\u001b[0m\u001b[0;34m[\u001b[0m\u001b[0;34m]\u001b[0m\u001b[0;34m)\u001b[0m\u001b[0;34m\u001b[0m\u001b[0;34m\u001b[0m\u001b[0m\n\u001b[0m\u001b[1;32m     12\u001b[0m \u001b[0;34m\u001b[0m\u001b[0m\n\u001b[1;32m     13\u001b[0m \u001b[0;32mdef\u001b[0m \u001b[0mage_det\u001b[0m\u001b[0;34m(\u001b[0m\u001b[0mname\u001b[0m\u001b[0;34m)\u001b[0m\u001b[0;34m:\u001b[0m\u001b[0;34m\u001b[0m\u001b[0;34m\u001b[0m\u001b[0m\n",
      "\u001b[0;31mNameError\u001b[0m: name 'np' is not defined"
     ]
    }
   ],
   "source": [
    "from pyagender import PyAgender\n",
    "import os, fnmatch, facemorpher\n",
    "from pyagender import PyAgender\n",
    "import cv2\n",
    "\n",
    "agender = PyAgender()\n",
    "x = os.getcwd()\n",
    "detected_age = []\n",
    "actual_age = []\n",
    "path = \"/Users/ellen/Documents/Twente/Q2/Introduction to biometrics/Final/SiblingsDB/\"\n",
    "\n",
    "\n",
    "def age_det(name):\n",
    "    faces = agender.detect_genders_ages(cv2.imread(name))\n",
    "    #print(faces)\n",
    "    age = faces[0]['age']\n",
    "    return age\n",
    "\n",
    "\n",
    "x = os.getcwd()\n",
    "\n",
    "def find(name, path):\n",
    "    for root, dirs, files in os.walk(path):\n",
    "        if name in dirs:\n",
    "            return os.path.join(root, name)\n",
    "        \n",
    "def find2(pattern, path):\n",
    "    result = []\n",
    "    for root, dirs, files in os.walk(path):\n",
    "        for name in files:\n",
    "            if fnmatch.fnmatch(name, pattern):\n",
    "                result.append(os.path.join(root, name))\n",
    "    return result\n",
    "\n",
    "f = open('/Users/ellen/Documents/Twente/Q2/Introduction to biometrics/Final/SiblingsDB/subjects.csv', 'r')\n",
    "for row in f:\n",
    "    data = (row.split(\" \"))\n",
    "    data_split = (str(data).replace('\"', ',').split(\",\"))\n",
    "    number = data_split[0].replace('\\\\t','').replace(\"'\", \"\").replace('[', '')\n",
    "    age = data_split[4].replace('\\\\t','')\n",
    "    path = find(number,x)\n",
    "    #print(path)\n",
    "    if str(path) != \"None\":\n",
    "        z = find2('*.jpg', path)\n",
    "        picture = (str(z[0]))\n",
    "        #print(picture)\n",
    "        age_detected = age_det(picture)\n",
    "        detected_age.append(int(age_detected))\n",
    "        actual_age.append(int(age))\n",
    "#age = age_det()"
   ]
  },
  {
   "cell_type": "code",
   "execution_count": 77,
   "metadata": {},
   "outputs": [
    {
     "data": {
      "image/png": "[encoded data removed]",
      "text/plain": [
       "<Figure size 432x288 with 1 Axes>"
      ]
     },
     "metadata": {
      "needs_background": "light"
     },
     "output_type": "display_data"
    }
   ],
   "source": [
    "import numpy\n",
    "import matplotlib.pyplot as plt\n",
    "actual_age_arr = numpy.array(actual_age)\n",
    "detected_age_arr = numpy.array(detected_age)\n",
    "\n",
    "plt.scatter(actual_age_arr, detected_age_arr)\n",
    "plt.xlabel('Actual age')\n",
    "plt.ylabel('Detected age')\n",
    "plt.title(\"Detected age vs actual age of the complete siblings data set\")\n",
    "plt.plot(range(0, 70))\n",
    "plt.savefig('actual-detect-SB.png')\n"
   ]
  },
  {
   "cell_type": "code",
   "execution_count": null,
   "metadata": {},
   "outputs": [],
   "source": []
  }
 ],
 "metadata": {
  "kernelspec": {
   "display_name": "Python 3",
   "language": "python",
   "name": "python3"
  },
  "language_info": {
   "codemirror_mode": {
    "name": "ipython",
    "version": 3
   },
   "file_extension": ".py",
   "mimetype": "text/x-python",
   "name": "python",
   "nbconvert_exporter": "python",
   "pygments_lexer": "ipython3",
   "version": "3.7.9"
  }
 },
 "nbformat": 4,
 "nbformat_minor": 4
}

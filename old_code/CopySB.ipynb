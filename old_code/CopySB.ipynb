{
 "cells": [
  {
   "cell_type": "code",
   "execution_count": 3,
   "metadata": {},
   "outputs": [
    {
     "ename": "FileNotFoundError",
     "evalue": "[Errno 2] No such file or directory: '/Users/ellen/Documents/Twente/Q2/Introduction to biometrics/Final/SiblingsDB/subjects.csv'",
     "output_type": "error",
     "traceback": [
      "\u001b[1;31m---------------------------------------------------------------------------\u001b[0m",
      "\u001b[1;31mFileNotFoundError\u001b[0m                         Traceback (most recent call last)",
      "\u001b[1;32m<ipython-input-3-99556a21a34f>\u001b[0m in \u001b[0;36m<module>\u001b[1;34m\u001b[0m\n\u001b[0;32m     44\u001b[0m \u001b[0mpath2\u001b[0m \u001b[1;33m=\u001b[0m \u001b[1;34m\"/Users/ellen/Documents/Twente/Q2/Introduction to biometrics/Siblings2fotos/\"\u001b[0m\u001b[1;33m\u001b[0m\u001b[1;33m\u001b[0m\u001b[0m\n\u001b[0;32m     45\u001b[0m \u001b[1;33m(\u001b[0m\u001b[0mresult\u001b[0m\u001b[1;33m,\u001b[0m \u001b[0mnames\u001b[0m\u001b[1;33m)\u001b[0m \u001b[1;33m=\u001b[0m \u001b[0mfind2\u001b[0m\u001b[1;33m(\u001b[0m\u001b[1;34m'*.jpg'\u001b[0m\u001b[1;33m,\u001b[0m \u001b[0mpath\u001b[0m\u001b[1;33m)\u001b[0m\u001b[1;33m\u001b[0m\u001b[1;33m\u001b[0m\u001b[0m\n\u001b[1;32m---> 46\u001b[1;33m \u001b[0mleeftijd\u001b[0m \u001b[1;33m=\u001b[0m \u001b[0mleeftijden_uit_CSV\u001b[0m\u001b[1;33m(\u001b[0m\u001b[1;33m)\u001b[0m\u001b[1;33m\u001b[0m\u001b[1;33m\u001b[0m\u001b[0m\n\u001b[0m\u001b[0;32m     47\u001b[0m \u001b[1;32mfor\u001b[0m \u001b[0mi\u001b[0m \u001b[1;32min\u001b[0m \u001b[0mresult\u001b[0m\u001b[1;33m:\u001b[0m\u001b[1;33m\u001b[0m\u001b[1;33m\u001b[0m\u001b[0m\n\u001b[0;32m     48\u001b[0m     \u001b[0mage\u001b[0m \u001b[1;33m=\u001b[0m \u001b[0mage_det\u001b[0m\u001b[1;33m(\u001b[0m\u001b[0mi\u001b[0m\u001b[1;33m)\u001b[0m\u001b[1;33m\u001b[0m\u001b[1;33m\u001b[0m\u001b[0m\n",
      "\u001b[1;32m<ipython-input-3-99556a21a34f>\u001b[0m in \u001b[0;36mleeftijden_uit_CSV\u001b[1;34m()\u001b[0m\n\u001b[0;32m     31\u001b[0m \u001b[1;33m\u001b[0m\u001b[0m\n\u001b[0;32m     32\u001b[0m \u001b[1;32mdef\u001b[0m \u001b[0mleeftijden_uit_CSV\u001b[0m\u001b[1;33m(\u001b[0m\u001b[1;33m)\u001b[0m\u001b[1;33m:\u001b[0m\u001b[1;33m\u001b[0m\u001b[1;33m\u001b[0m\u001b[0m\n\u001b[1;32m---> 33\u001b[1;33m     \u001b[0mf\u001b[0m \u001b[1;33m=\u001b[0m \u001b[0mopen\u001b[0m\u001b[1;33m(\u001b[0m\u001b[1;34m'/Users/ellen/Documents/Twente/Q2/Introduction to biometrics/Final/SiblingsDB/subjects.csv'\u001b[0m\u001b[1;33m,\u001b[0m \u001b[1;34m'r'\u001b[0m\u001b[1;33m)\u001b[0m\u001b[1;33m\u001b[0m\u001b[1;33m\u001b[0m\u001b[0m\n\u001b[0m\u001b[0;32m     34\u001b[0m     \u001b[0mx\u001b[0m\u001b[1;33m=\u001b[0m\u001b[1;33m[\u001b[0m\u001b[1;33m]\u001b[0m\u001b[1;33m\u001b[0m\u001b[1;33m\u001b[0m\u001b[0m\n\u001b[0;32m     35\u001b[0m     \u001b[1;32mfor\u001b[0m \u001b[0mi\u001b[0m \u001b[1;32min\u001b[0m \u001b[0mf\u001b[0m\u001b[1;33m:\u001b[0m\u001b[1;33m\u001b[0m\u001b[1;33m\u001b[0m\u001b[0m\n",
      "\u001b[1;31mFileNotFoundError\u001b[0m: [Errno 2] No such file or directory: '/Users/ellen/Documents/Twente/Q2/Introduction to biometrics/Final/SiblingsDB/subjects.csv'"
     ]
    }
   ],
   "source": [
    "import os, fnmatch#, facemorpher\n",
    "#from pyagender import PyAgender\n",
    "import cv2\n",
    "import random\n",
    "import numpy\n",
    "import matplotlib.pyplot as plt\n",
    "import random\n",
    "from PIL import Image\n",
    "\n",
    "#agender = PyAgender()\n",
    "\n",
    "def find2(pattern, path):\n",
    "    result = []\n",
    "    names = []\n",
    "    for root, dirs, files in os.walk(path):\n",
    "        for name in files:\n",
    "            if fnmatch.fnmatch(name, pattern):\n",
    "                result.append(os.path.join(root, name))\n",
    "                names.append(name)\n",
    "    return result, names\n",
    "\n",
    "def age_det(name):\n",
    "    faces = agender.detect_genders_ages(cv2.imread(name))\n",
    "    #print(faces)\n",
    "    if len(faces) == 0:\n",
    "        age = 5000        \n",
    "    else:\n",
    "        age = faces[0]['age']\n",
    "    #print(age)\n",
    "    return age\n",
    "\n",
    "def leeftijden_uit_CSV():\n",
    "    f = open('SiblingsDB/subjects.csv', 'r')\n",
    "    x=[]\n",
    "    for i in f:\n",
    "        data = (i.split(\" \"))\n",
    "        data_split = (str(data).replace('\"', ',').split(\",\"))\n",
    "        leeftijd = data_split[4].replace('\\\\t','')\n",
    "        x.append(leeftijd)\n",
    "    f.close\n",
    "    return x\n",
    "\n",
    "path = \"/Users/ellen/Documents/Twente/Q2/Introduction to biometrics/Backup-fotos/HQfps/\"\n",
    "path2 = \"/Users/ellen/Documents/Twente/Q2/Introduction to biometrics/Siblings2fotos/\"\n",
    "(result, names) = find2('*.jpg', path)\n",
    "leeftijd = leeftijden_uit_CSV()\n",
    "for i in result:\n",
    "    age = age_det(i)\n",
    "    if age != 5000:\n",
    "        # Save picture\n",
    "        Subject_num = i.split('/')[9]\n",
    "        leeftijd_per = leeftijd[int(Subject_num)-1]\n",
    "        print(Subject_num)\n",
    "        print(leeftijd_per)\n",
    "        im = Image.open(i)\n",
    "        new_file_name = path2 + Subject_num + \"_\" + leeftijd_per + \".png\"\n",
    "        if os.path.exists(new_file_name):\n",
    "            new_file_name = path2 + Subject_num + \"_\" + leeftijd_per + \"_1.png\"\n",
    "        im.save(new_file_name, \"png\")"
   ]
  },
  {
   "cell_type": "code",
   "execution_count": 26,
   "metadata": {},
   "outputs": [
    {
     "name": "stdout",
     "output_type": "stream",
     "text": [
      "23\n"
     ]
    }
   ],
   "source": [
    "f = open('/Users/ellen/Documents/Twente/Q2/Introduction to biometrics/Final/SiblingsDB/subjects.csv', 'r')\n",
    "x=[]\n",
    "for i in f:\n",
    "    data = (i.split(\" \"))\n",
    "    data_split = (str(data).replace('\"', ',').split(\",\"))\n",
    "    leeftijd = data_split[4].replace('\\\\t','')\n",
    "    x.append(leeftijd)\n",
    "f.close\n",
    "print(x[94])"
   ]
  },
  {
   "cell_type": "code",
   "execution_count": null,
   "metadata": {},
   "outputs": [],
   "source": []
  }
 ],
 "metadata": {
  "kernelspec": {
   "display_name": "Python 3",
   "language": "python",
   "name": "python3"
  },
  "language_info": {
   "codemirror_mode": {
    "name": "ipython",
    "version": 3
   },
   "file_extension": ".py",
   "mimetype": "text/x-python",
   "name": "python",
   "nbconvert_exporter": "python",
   "pygments_lexer": "ipython3",
   "version": "3.7.8"
  }
 },
 "nbformat": 4,
 "nbformat_minor": 4
}
